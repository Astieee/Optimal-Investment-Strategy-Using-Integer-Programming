{
  "cells": [
    {
      "cell_type": "markdown",
      "metadata": {
        "id": "7o0PxXyYKwc5"
      },
      "source": [
        "Install amplpy, pandas and other packages."
      ]
    },
    {
      "cell_type": "code",
      "execution_count": null,
      "metadata": {
        "id": "G004pZj1XA_0",
        "outputId": "d1908853-bc5d-4f63-c902-831f2609b0d7",
        "colab": {
          "base_uri": "https://localhost:8080/"
        }
      },
      "outputs": [
        {
          "output_type": "stream",
          "name": "stdout",
          "text": [
            "\u001b[2K     \u001b[90m━━━━━━━━━━━━━━━━━━━━━━━━━━━━━━━━━━━━━━━━\u001b[0m \u001b[32m5.6/5.6 MB\u001b[0m \u001b[31m14.3 MB/s\u001b[0m eta \u001b[36m0:00:00\u001b[0m\n",
            "\u001b[?25h"
          ]
        }
      ],
      "source": [
        "!pip install -q amplpy ampltools pandas"
      ]
    },
    {
      "cell_type": "markdown",
      "source": [
        "Setup AMPL and select solvers."
      ],
      "metadata": {
        "id": "G42yc42srDoN"
      }
    },
    {
      "cell_type": "code",
      "execution_count": null,
      "metadata": {
        "id": "bY6nMq3DXIQ9",
        "colab": {
          "base_uri": "https://localhost:8080/"
        },
        "outputId": "c9726366-2065-486b-dd71-a4a445cbbf45"
      },
      "outputs": [
        {
          "output_type": "stream",
          "name": "stdout",
          "text": [
            "Licensed to Bundle #6300.6669 expiring 20231231: INFO 645 Prescriptive Analytics, Prof. Paul Brooks, Virginia Commonwealth University.\n"
          ]
        }
      ],
      "source": [
        "# Google Colab & AMPL integration\n",
        "\n",
        "MODULES, LICENSE_UUID = [\"coin\", 'gurobi', \"cplex\", \"highs\", \"gokestrel\"], \"6b31af08-ff1f-429f-ad0b-4bb913b68f75\"\n",
        "\n",
        "from amplpy import tools\n",
        "from ampltools import cloud_platform_name, ampl_notebook, register_magics\n",
        "\n",
        "# instantiate AMPL object and register magics\n",
        "if cloud_platform_name() is None:\n",
        "    ampl = AMPL() # Use local installation of AMPL\n",
        "else:\n",
        "    ampl = tools.ampl_notebook(modules=MODULES, license_uuid=LICENSE_UUID, g=globals())\n",
        "\n",
        "register_magics(ampl_object=ampl)"
      ]
    },
    {
      "cell_type": "code",
      "source": [
        "# Now set the data in AMPL\n",
        "projects = [1, 2, 3, 4, 5, 6]\n",
        "returns = {1: 32.40, 2: 35.80, 3: 17.75, 4: 14.80, 5: 18.20, 6: 12.35}\n",
        "cash_outlays = {\n",
        "    (1, 1): 10.50, (1, 2): 14.40, (1, 3): 2.20, (1, 4): 2.40,\n",
        "    (2, 1): 8.30,  (2, 2): 12.60, (2, 3): 9.50, (2, 4): 3.10,\n",
        "    (3, 1): 10.20,  (3, 2): 14.20, (3, 3): 5.60, (3, 4): 4.20,\n",
        "    (4, 1): 7.20,  (4, 2): 10.50, (4, 3): 7.50, (4, 4): 5.00,\n",
        "    (5, 1): 12.30,  (5, 2): 10.10, (5, 3): 8.30, (5, 4): 6.30,\n",
        "    (6, 1): 9.20,  (6, 2): 7.80, (6, 3): 6.90, (6, 4): 5.10,\n",
        "}\n",
        "yearly_funds = {1: 30, 2: 30, 3: 35, 4: 20}"
      ],
      "metadata": {
        "id": "F8xel-Ev7PeO"
      },
      "execution_count": null,
      "outputs": []
    },
    {
      "cell_type": "code",
      "source": [
        "ampl.eval ('''\n",
        "\n",
        "reset;\n",
        "\n",
        "set PROJECTS;  # Set of projects\n",
        "set YEARS;     # Set of years\n",
        "\n",
        "param Returns {i in PROJECTS};           # Expected returns for each project\n",
        "param CashOutlays {i in PROJECTS, j in YEARS}; # Cash outlays for each project in each year\n",
        "param YearlyFunds {i in YEARS};          # Available funds in each year\n",
        "\n",
        "# Decision variable: fraction of each project to undertake\n",
        "var x {i in PROJECTS} >= 0, <= 1;\n",
        "\n",
        "# Objective: Maximize total expected returns\n",
        "maximize TotalReturns:\n",
        "    sum {i in PROJECTS} Returns[i] * x[i];\n",
        "\n",
        "# Yearly budget constraints\n",
        "subject to Budget_Constraint {j in YEARS}:\n",
        "    sum {i in PROJECTS} CashOutlays[i, j] * x[i] <= YearlyFunds[j];\n",
        "''')"
      ],
      "metadata": {
        "id": "1e4XhtOvIRiP"
      },
      "execution_count": null,
      "outputs": []
    },
    {
      "cell_type": "code",
      "source": [
        "ampl.set['PROJECTS'] = projects\n",
        "ampl.set['YEARS'] = list(yearly_funds.keys())\n",
        "ampl.param['Returns'] = returns\n",
        "ampl.param['CashOutlays'] = cash_outlays\n",
        "ampl.param['YearlyFunds'] = yearly_funds"
      ],
      "metadata": {
        "id": "VBqeXfixKjgT"
      },
      "execution_count": null,
      "outputs": []
    },
    {
      "cell_type": "code",
      "source": [
        "ampl.setOption('solver', 'cbc')\n",
        "ampl.solve()"
      ],
      "metadata": {
        "colab": {
          "base_uri": "https://localhost:8080/"
        },
        "id": "RH-K7A1OAwGS",
        "outputId": "d0fa9fbd-b86a-4603-8ebb-ad02f1dfb802"
      },
      "execution_count": null,
      "outputs": [
        {
          "output_type": "stream",
          "name": "stdout",
          "text": [
            "cbc 2.10.10: \b\b\b\b\b\b\b\b\b\b\b\b\bcbc 2.10.10: optimal solution; objective 73.60594059\n",
            "0 simplex iterations\n",
            " \n"
          ]
        }
      ]
    },
    {
      "cell_type": "code",
      "source": [
        "ampl.eval('''expand;''')"
      ],
      "metadata": {
        "colab": {
          "base_uri": "https://localhost:8080/"
        },
        "id": "D7yb6t45AzWA",
        "outputId": "22315d91-e037-4268-e06b-58ca25c2d08c"
      },
      "execution_count": null,
      "outputs": [
        {
          "output_type": "stream",
          "name": "stdout",
          "text": [
            "maximize TotalReturns:\n",
            "\t32.4*x[1] + 35.8*x[2] + 17.75*x[3] + 14.8*x[4] + 18.2*x[5] + 12.35*x[6];\n",
            "\n",
            "subject to Budget_Constraint[1]:\n",
            "\t10.5*x[1] + 8.3*x[2] + 10.2*x[3] + 7.2*x[4] + 12.3*x[5] + 9.2*x[6] <= \n",
            "\t30;\n",
            "\n",
            "subject to Budget_Constraint[2]:\n",
            "\t14.4*x[1] + 12.6*x[2] + 14.2*x[3] + 10.5*x[4] + 10.1*x[5] + 7.8*x[6]\n",
            "\t <= 30;\n",
            "\n",
            "subject to Budget_Constraint[3]:\n",
            "\t2.2*x[1] + 9.5*x[2] + 5.6*x[3] + 7.5*x[4] + 8.3*x[5] + 6.9*x[6] <= 35;\n",
            "\n",
            "subject to Budget_Constraint[4]:\n",
            "\t2.4*x[1] + 3.1*x[2] + 4.2*x[3] + 5*x[4] + 6.3*x[5] + 5.1*x[6] <= 20;\n",
            "\n"
          ]
        }
      ]
    },
    {
      "cell_type": "code",
      "source": [
        "# Print results\n",
        "obj = ampl.get_objective('TotalReturns')\n",
        "print(\"\\n\")\n",
        "print(\"Total_NPV is: \", obj.get().value(), \"\\n\")\n",
        "print(\"Projects choosen:\")\n",
        "ampl.display('x');"
      ],
      "metadata": {
        "colab": {
          "base_uri": "https://localhost:8080/"
        },
        "id": "RIQ1rv3KA1KY",
        "outputId": "92df6110-64a0-4107-ad37-9cc4053e3c33"
      },
      "execution_count": null,
      "outputs": [
        {
          "output_type": "stream",
          "name": "stdout",
          "text": [
            "\n",
            "\n",
            "Total_NPV is:  73.60594059405939 \n",
            "\n",
            "Projects choosen:\n",
            "x [*] :=\n",
            "1  1\n",
            "2  1\n",
            "3  0\n",
            "4  0\n",
            "5  0.29703\n",
            "6  0\n",
            ";\n",
            "\n"
          ]
        }
      ]
    }
  ],
  "metadata": {
    "colab": {
      "provenance": []
    },
    "kernelspec": {
      "display_name": "Python 3 (ipykernel)",
      "language": "python",
      "name": "python3"
    },
    "language_info": {
      "codemirror_mode": {
        "name": "ipython",
        "version": 3
      },
      "file_extension": ".py",
      "mimetype": "text/x-python",
      "name": "python",
      "nbconvert_exporter": "python",
      "pygments_lexer": "ipython3",
      "version": "3.9.13"
    }
  },
  "nbformat": 4,
  "nbformat_minor": 0
}